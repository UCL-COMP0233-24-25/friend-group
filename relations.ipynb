{
 "cells": [
  {
   "cell_type": "code",
   "execution_count": 36,
   "metadata": {},
   "outputs": [
    {
     "name": "stdout",
     "output_type": "stream",
     "text": [
      "{'Jill': {'age': 26, 'job': 'biologist', 'relationships': {'Zalika': 'friend', 'John': 'partner'}}, 'Zalika': {'age': 28, 'job': 'artist', 'relationships': {'Jill': 'friend'}}, 'John': {'age': 27, 'job': 'writer', 'relationships': {'Jill': 'partner'}}, 'Nash': {'age': 33, 'job': 'chef', 'relationships': {'John': 'cousin', 'Zalika': 'landlord'}}}\n"
     ]
    }
   ],
   "source": [
    "\"\"\"An example of how to represent a group of acquaintances in Python.\"\"\"\n",
    "\n",
    "# Your code to go here...\n",
    "\n",
    "my_group = {\n",
    "    \"Jill\":{\n",
    "        \"age\":26,\n",
    "        \"job\":\"biologist\",\n",
    "        \"relationships\": {\n",
    "            \"Zalika\":\"friend\",\n",
    "            \"John\":\"partner\",\n",
    "        }\n",
    "    },\n",
    "    \"Zalika\":{\n",
    "        \"age\":28,\n",
    "        \"job\":\"artist\",\n",
    "        \"relationships\":{\n",
    "            \"Jill\":\"friend\",\n",
    "        }\n",
    "    }, # type: ignore\n",
    "    \"John\":{\n",
    "        \"age\":27,\n",
    "        \"job\":\"writer\",\n",
    "        \"relationships\":{\n",
    "            \"Jill\":\"partner\",\n",
    "        }\n",
    "    },\n",
    "    \"Nash\":{\n",
    "        \"age\":33,\n",
    "        \"job\":\"chef\",\n",
    "        \"relationships\":{\n",
    "            \"John\":\"cousin\",\n",
    "            \"Zalika\":\"landlord\",\n",
    "        }\n",
    "    }\n",
    "}\n",
    "print(my_group)\n",
    "\n",
    "\n",
    "def add_friendship(dict, friend1, friend2, relationship):\n",
    "    dict[friend1][\"relationships\"][friend2] = relationship\n",
    "\n"
   ]
  },
  {
   "cell_type": "code",
   "execution_count": 25,
   "metadata": {},
   "outputs": [
    {
     "name": "stdout",
     "output_type": "stream",
     "text": [
      "updated {'Jill': 'friend', 'Nash': 'tenant'}\n",
      "{'Jill': {'age': 26, 'job': 'biologist', 'relationships': {'Zalika': 'friend', 'John': 'partner'}}, 'Zalika': {'age': 28, 'job': 'artist', 'relationships': {'Jill': 'friend', 'Nash': 'tenant'}}, 'John': {'age': 27, 'job': 'writer', 'relationships': {'Jill': 'partner', 'Nash': 'cousin'}}, 'Nash': {'age': 33, 'job': 'chef', 'relationships': {'John': 'cousin', 'Zalika': 'landlord'}}}\n"
     ]
    }
   ],
   "source": [
    "# Adding reciprocal relations\n",
    "for name in my_group:\n",
    "    for relation in my_group[name][\"relationships\"]:\n",
    "        if name in my_group[relation][\"relationships\"]:                  # Ignore reciprocal\n",
    "            continue\n",
    "        else:\n",
    "            relationship = my_group[name][\"relationships\"][relation]\n",
    "            shared_relationships = ['friend', 'cousin', 'partner']       # Adding partners, cousins, friends\n",
    "            if  relationship in shared_relationships:\n",
    "                add_friendship(my_group, relation, name, relationship)\n",
    "            elif relationship == 'landlord':                             # Add a tenant (has different label for each individual)\n",
    "                add_friendship(my_group, relation, name, 'tenant')\n",
    "                print('updated', my_group[relation][\"relationships\"])\n",
    "            else:\n",
    "                print(f'Relation type not recognised. Failed to add reciprocal connection for {name} and {relation} (type: {relationship})')\n",
    "\n",
    "print(my_group)"
   ]
  },
  {
   "cell_type": "code",
   "execution_count": 35,
   "metadata": {},
   "outputs": [
    {
     "name": "stdout",
     "output_type": "stream",
     "text": [
      "Jill did not have Bill as a relation\n",
      "Updated dictionary {'Jill': {'age': 26, 'job': 'biologist', 'relationships': {'John': 'partner'}}, 'Zalika': {'age': 28, 'job': 'artist', 'relationships': {}}, 'John': {'age': 27, 'job': 'writer', 'relationships': {'Jill': 'partner'}}, 'Nash': {'age': 33, 'job': 'chef', 'relationships': {'John': 'cousin', 'Zalika': 'landlord'}}, 'Bill': {'age': 10, 'job': None, 'relationships': {}}}\n"
     ]
    }
   ],
   "source": [
    "# Forgetting a person\n",
    "\n",
    "def forget(dict, person1, person2):\n",
    "    # Remove person 2 from person 1\n",
    "    try:\n",
    "        dict[person1][\"relationships\"].pop(person2)\n",
    "    except:\n",
    "        print(f'{person1} did not have {person2} as a relation')\n",
    "\n",
    "    # Remove person 1 from person 2\n",
    "    try:\n",
    "        dict[person2][\"relationships\"].pop(person1)\n",
    "    except:\n",
    "        print(f'{person2} did not have {person1} as a relation')\n",
    "    \n",
    "    print('Updated dictionary', dict)\n",
    "\n",
    "\n",
    "forget(my_group,\"Jill\",\"Bill\")\n",
    "\n",
    "    "
   ]
  },
  {
   "cell_type": "code",
   "execution_count": 34,
   "metadata": {},
   "outputs": [
    {
     "name": "stdout",
     "output_type": "stream",
     "text": [
      "{'Jill': {'age': 26, 'job': 'biologist', 'relationships': {'John': 'partner'}}, 'Zalika': {'age': 28, 'job': 'artist', 'relationships': {}}, 'John': {'age': 27, 'job': 'writer', 'relationships': {'Jill': 'partner'}}, 'Nash': {'age': 33, 'job': 'chef', 'relationships': {'John': 'cousin', 'Zalika': 'landlord'}}, 'Bill': {'age': 10, 'job': None, 'relationships': {'Jill': 'son'}}}\n"
     ]
    }
   ],
   "source": [
    "def add_person(dict, name, age, job, relations):\n",
    "    dict[name]={}\n",
    "    dict[name][\"age\"]=age\n",
    "    dict[name][\"job\"]=job\n",
    "    dict[name][\"relationships\"]=relations\n",
    "\n",
    "\n",
    "\n",
    "add_person(my_group, \"Bill\", 10, None, {\"Jill\": \"son\"})\n",
    "print(my_group)"
   ]
  },
  {
   "cell_type": "code",
   "execution_count": 21,
   "metadata": {},
   "outputs": [
    {
     "name": "stdout",
     "output_type": "stream",
     "text": [
      "26\n",
      "28\n",
      "27\n",
      "33\n"
     ]
    }
   ],
   "source": [
    "for variable1 in my_group:\n",
    "    print(my_group[variable1][\"age\"])\n"
   ]
  },
  {
   "cell_type": "code",
   "execution_count": 41,
   "metadata": {},
   "outputs": [
    {
     "data": {
      "text/plain": [
       "28.5"
      ]
     },
     "execution_count": 41,
     "metadata": {},
     "output_type": "execute_result"
    }
   ],
   "source": [
    "# Return mean age of group\n",
    "\n",
    "def mean_age(dict):\n",
    "    ages=[]\n",
    "    for name in dict:\n",
    "        ages.append(dict[name][\"age\"])\n",
    "    age_mean = sum(ages)/len(ages)\n",
    "    return age_mean\n",
    "\n",
    "\n",
    "mean_age(my_group)"
   ]
  },
  {
   "cell_type": "code",
   "execution_count": null,
   "metadata": {},
   "outputs": [],
   "source": []
  }
 ],
 "metadata": {
  "kernelspec": {
   "display_name": "Python 3",
   "language": "python",
   "name": "python3"
  },
  "language_info": {
   "codemirror_mode": {
    "name": "ipython",
    "version": 3
   },
   "file_extension": ".py",
   "mimetype": "text/x-python",
   "name": "python",
   "nbconvert_exporter": "python",
   "pygments_lexer": "ipython3",
   "version": "3.11.4"
  }
 },
 "nbformat": 4,
 "nbformat_minor": 2
}
