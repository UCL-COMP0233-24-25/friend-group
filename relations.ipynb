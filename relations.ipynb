{
 "cells": [
  {
   "cell_type": "code",
   "execution_count": 10,
   "metadata": {},
   "outputs": [
    {
     "name": "stdout",
     "output_type": "stream",
     "text": [
      "{'Jill': {'age': 26, 'job': 'biologist', 'relationships': {'Zalika': 'friend', 'John': 'partner'}}, 'Zalika': {'age': 28, 'job': 'artist', 'relationships': {'Jill': 'friend'}}, 'John': {'age': 27, 'job': 'writer', 'relationships': {'Jill': 'partner'}}, 'Nash': {'age': 33, 'job': 'chef', 'relationships': {'John': 'cousin', 'Zalika': 'landlord'}}}\n"
     ]
    }
   ],
   "source": [
    "\"\"\"An example of how to represent a group of acquaintances in Python.\"\"\"\n",
    "\n",
    "# Your code to go here...\n",
    "\n",
    "my_group = {\n",
    "    \"Jill\":{\n",
    "        \"age\":26,\n",
    "        \"job\":\"biologist\",\n",
    "        \"relationships\": {\n",
    "            \"Zalika\":\"friend\",\n",
    "            \"John\":\"partner\",\n",
    "        }\n",
    "    },\n",
    "    \"Zalika\":{\n",
    "        \"age\":28,\n",
    "        \"job\":\"artist\",\n",
    "        \"relationships\":{\n",
    "            \"Jill\":\"friend\",\n",
    "        }\n",
    "    }, # type: ignore\n",
    "    \"John\":{\n",
    "        \"age\":27,\n",
    "        \"job\":\"writer\",\n",
    "        \"relationships\":{\n",
    "            \"Jill\":\"partner\",\n",
    "        }\n",
    "    },\n",
    "    \"Nash\":{\n",
    "        \"age\":33,\n",
    "        \"job\":\"chef\",\n",
    "        \"relationships\":{\n",
    "            \"John\":\"cousin\",\n",
    "            \"Zalika\":\"landlord\",\n",
    "        }\n",
    "    }\n",
    "}\n",
    "print(my_group)\n",
    "\n",
    "\n",
    "def add_friendship(dict, friend1, friend2, relationship):\n",
    "    dict[friend1][\"relationships\"][friend2] = relationship\n",
    "\n"
   ]
  },
  {
   "cell_type": "code",
   "execution_count": 11,
   "metadata": {},
   "outputs": [
    {
     "name": "stdout",
     "output_type": "stream",
     "text": [
      "Jill Zalika\n",
      "Jill John\n",
      "Zalika Jill\n",
      "John Jill\n",
      "Not reciprocal Nash John\n",
      "relationship type cousin\n",
      "updated {'Jill': 'partner', 'Nash': 'cousin'}\n",
      "Not reciprocal Nash Zalika\n",
      "relationship type landlord\n",
      "updated {'Jill': 'friend', 'Nash': 'tenant'}\n",
      "{'Jill': {'age': 26, 'job': 'biologist', 'relationships': {'Zalika': 'friend', 'John': 'partner'}}, 'Zalika': {'age': 28, 'job': 'artist', 'relationships': {'Jill': 'friend', 'Nash': 'tenant'}}, 'John': {'age': 27, 'job': 'writer', 'relationships': {'Jill': 'partner', 'Nash': 'cousin'}}, 'Nash': {'age': 33, 'job': 'chef', 'relationships': {'John': 'cousin', 'Zalika': 'landlord'}}}\n"
     ]
    }
   ],
   "source": [
    "\n",
    "for name in my_group:\n",
    "    for relation in my_group[name][\"relationships\"]:\n",
    "        if name in my_group[relation][\"relationships\"]:\n",
    "            continue\n",
    "        else:\n",
    "            if my_group[name][\"relationships\"][relation] == 'cousin':    # Add a cousin\n",
    "                add_friendship(my_group, relation, name, 'cousin')\n",
    "                print('updated', my_group[relation][\"relationships\"])\n",
    "            if my_group[name][\"relationships\"][relation] == 'landlord':  # Add a tenant\n",
    "                add_friendship(my_group, relation, name, 'tenant')\n",
    "                print('updated', my_group[relation][\"relationships\"])\n",
    "\n",
    "print(my_group)"
   ]
  },
  {
   "cell_type": "code",
   "execution_count": 16,
   "metadata": {},
   "outputs": [
    {
     "data": {
      "text/plain": [
       "2"
      ]
     },
     "execution_count": 16,
     "metadata": {},
     "output_type": "execute_result"
    }
   ],
   "source": [
    "len(my_group[\"Jill\"][\"relationships\"])"
   ]
  },
  {
   "cell_type": "code",
   "execution_count": 21,
   "metadata": {},
   "outputs": [
    {
     "name": "stdout",
     "output_type": "stream",
     "text": [
      "26\n",
      "28\n",
      "27\n",
      "33\n"
     ]
    }
   ],
   "source": [
    "for variable1 in my_group:\n",
    "    print(my_group[variable1][\"age\"])\n"
   ]
  },
  {
   "cell_type": "code",
   "execution_count": null,
   "metadata": {},
   "outputs": [],
   "source": []
  }
 ],
 "metadata": {
  "kernelspec": {
   "display_name": "Python 3",
   "language": "python",
   "name": "python3"
  },
  "language_info": {
   "codemirror_mode": {
    "name": "ipython",
    "version": 3
   },
   "file_extension": ".py",
   "mimetype": "text/x-python",
   "name": "python",
   "nbconvert_exporter": "python",
   "pygments_lexer": "ipython3",
   "version": "3.11.4"
  }
 },
 "nbformat": 4,
 "nbformat_minor": 2
}
